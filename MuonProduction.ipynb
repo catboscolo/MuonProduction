{
 "cells": [
  {
   "cell_type": "markdown",
   "metadata": {},
   "source": [
    "# Simulation of a positron-induced Muon Source\n",
    "\n",
    "### Cross section computation:\n",
    "* *Compute the process leading-order cross section, $\\sigma(\\theta; \\sqrt{s})$, as a function of the scattering angle $\\theta$ and with the  center of mass energy $\\sqrt{s}$ as a parameter. Start by computing it in the center of mass system. N.B.: textbooks reports such cross section in the relativistic limit, i.e. for $\\sqrt{s}\\gg m_\\mu$, which is clearly not the case here ($\\sqrt{s}\\sim 2m_\\mu$)*\n",
    "\n",
    "Both differential and total cross section in the CoM reference system are computed in the limit of $\\sqrt{s}\\sim 2m_\\mu \\gg m_e$, $m_e$ is thus discarded. $\\theta$ is considered as the angle of the outcoming $\\mu^+$ with respect to the incoming $e^+$ direction (which we call x axis). The scatttering is planar and the final distribution is isotropic with respect to $\\varphi$ angle around x axis."
   ]
  },
  {
   "cell_type": "code",
   "execution_count": 1,
   "metadata": {},
   "outputs": [
    {
     "data": {
      "text/plain": [
       "<Figure size 600x400 with 1 Axes>"
      ]
     },
     "metadata": {},
     "output_type": "display_data"
    }
   ],
   "source": [
    "import numpy as np\n",
    "import matplotlib.pyplot as plt\n",
    "from math import pi\n",
    "e_ = 1.60217662e-19 # C\n",
    "c_ = 299792458\n",
    "alpha = 1./137.\n",
    "mmu = 0.1056583715 # GeV/c2\n",
    "\n",
    "\n",
    "def xsec(sqrs):      # cross section computed for sqrt(s)~2m_mu, disarding m_e. \n",
    "                     # e+e- Center of Mass reference system\n",
    "    sqrs=np.array(sqrs)\n",
    "    sqrs_loc=sqrs.copy()\n",
    "    mask = (sqrs_loc/mmu < 2)    # s is set to inf when less than threshold to have zero cross section\n",
    "    sqrs_loc[mask] = 9999\n",
    "    sigma = (4.*pi*alpha**2)/3./(sqrs_loc**2)*np.sqrt(1.-4.*(mmu/sqrs_loc)**2)*(1.+2.*(mmu/sqrs_loc)**2)\n",
    "    sigma_mub = 389.379 * sigma   # conversion from GeV-2 to mubarn\n",
    "    return sigma_mub\n",
    "\n",
    "xx = np.arange(0.21,0.23,0.0001)\n",
    "yy = xsec(xx)\n",
    "\n",
    "plt.figure(figsize=(6,4))\n",
    "plt.subplot(111)\n",
    "plt.plot(xx,yy)\n",
    "plt.xlabel(r'$\\sqrt{s}$ [Gev]')\n",
    "plt.ylabel(r'$\\sigma$ [$\\mu$b]')\n",
    "plt.title(r'$e^+e^-\\rightarrow\\mu^+\\mu^-$ total cross section')\n",
    "plt.show()"
   ]
  },
  {
   "cell_type": "markdown",
   "metadata": {},
   "source": [
    "* *Compute and display the angle and momentum components distributions of the emerging muon pairs.*\n",
    "\n",
    "The differential cross section is computed as a function of $\\cos{\\theta}$ to get the angular distributon of produced muon pairs. $\\sqrt{s}=0.22$ GeV is taken as example."
   ]
  },
  {
   "cell_type": "code",
   "execution_count": 2,
   "metadata": {},
   "outputs": [
    {
     "data": {
      "image/png": "[encoded data removed]",
      "text/plain": [
       "<Figure size 432x288 with 1 Axes>"
      ]
     },
     "metadata": {
      "needs_background": "light"
     },
     "output_type": "display_data"
    }
   ],
   "source": [
    "def xsec_diff(sqrs2,cos):   # differential cross section (N.B.: already integrated over phi!!)\n",
    "\n",
    "    sqrs2=np.array(sqrs2)\n",
    "    sqrs_loc=sqrs2.copy()\n",
    "    mask = (sqrs_loc/mmu < 2)\n",
    "    sqrs_loc[mask] = 9999\n",
    "    beta = np.sqrt(1.-4.*mmu*mmu/(sqrs_loc**2))\n",
    "    dsigma = pi/2.*alpha*alpha/(sqrs_loc**2)*beta*(1+(2.*mmu/sqrs_loc)**2+(beta*cos)**2)\n",
    "    \n",
    "    return 389.379*dsigma\n",
    "\n",
    "xxcos=np.arange(-1,1,0.01)\n",
    "\n",
    "rads=0.22\n",
    "\n",
    "plt.figure(figsize=(6,4))\n",
    "plt.subplot(111)\n",
    "plt.plot(xxcos,xsec_diff(rads,xxcos))\n",
    "plt.xlabel(r'$\\cos{(\\theta)}$ []')\n",
    "plt.ylabel(r'$d\\sigma/d\\cos{(\\theta)}$ [$\\mu$b]')\n",
    "plt.title(r'$e^+e^-\\rightarrow\\mu^+\\mu^-$ differential cross section, $\\sqrt{s}$=0.22 GeV')\n",
    "plt.show()"
   ]
  },
  {
   "cell_type": "markdown",
   "metadata": {},
   "source": [
    "* *Write a Monte Carlo simulation that generates scattering events following the distrubtions that you find analytically.* \n",
    "\n",
    "$\\cos{\\theta}$ is sampled using the inverse transformation method. The distribution we get is coherent with the one found analytically. The distribution looks \"dirt\" because at these low energy the curvature of the distribution parabola (i.e. the different probability density for minima and maxima) is very small."
   ]
  },
  {
   "cell_type": "code",
   "execution_count": 3,
   "metadata": {},
   "outputs": [],
   "source": [
    "from scipy.optimize import brentq\n",
    "%precision 8\n",
    "\n",
    "# ---------- Monte Carlo cosTheta sampling with inverse transformation method -------\n",
    "\n",
    "N=100000\n",
    "s=rads**2\n",
    "\n",
    "def f(x, s, k):\n",
    "    alpha = 1./137.\n",
    "    mmu = 0.1056583715\n",
    "    beta = np.sqrt(1.-4.*(mmu)**2/(s))   ####(alpha/4.*s)*beta*\n",
    "    return ( ( (1. + (4.*mmu**2)/s + ((beta*x)**2)/3.)*x + 1. + (4.*mmu**2)/s + (beta**2)/3 )/\n",
    "            (2*(1. + (4.*mmu**2)/s + ((beta)**2)/3.)) - k )\n",
    "\n",
    "\n",
    "k_arr=np.random.random(N)\n",
    "\n",
    "cos_arr=[brentq(f, -1, 1, args=(s, kk)) for kk in k_arr]"
   ]
  },
  {
   "cell_type": "code",
   "execution_count": 4,
   "metadata": {
    "scrolled": true
   },
   "outputs": [
    {
     "data": {
      "image/png": "[encoded data removed]",
      "text/plain": [
       "<Figure size 432x288 with 1 Axes>"
      ]
     },
     "metadata": {
      "needs_background": "light"
     },
     "output_type": "display_data"
    }
   ],
   "source": [
    "plt.hist(cos_arr, bins=20, density=True)\n",
    "#plt.ylim(0.45, 0.55)\n",
    "plt.show()"
   ]
  },
  {
   "cell_type": "markdown",
   "metadata": {},
   "source": [
    "$\\varphi$ angle is sampled from a uniform distribution from 0 to $2\\pi$."
   ]
  },
  {
   "cell_type": "code",
   "execution_count": 5,
   "metadata": {},
   "outputs": [],
   "source": [
    "# ------ Monte Carlo phi sampling from uniform distribution -------\n",
    "phi = 2*pi*np.random.random(N)"
   ]
  },
  {
   "cell_type": "markdown",
   "metadata": {},
   "source": [
    "An alternative methond to sample $\\cos\\theta$ is the \"rejection sampling\" (Accept-reject method). The result is very similar to what was obtained with previous method, thus in this case the procedures are equivalent. The analitycal distribution is plotted on top for comparison."
   ]
  },
  {
   "cell_type": "code",
   "execution_count": 6,
   "metadata": {},
   "outputs": [
    {
     "data": {
      "text/plain": [
       "(0.45000000, 0.55000000)"
      ]
     },
     "execution_count": 6,
     "metadata": {},
     "output_type": "execute_result"
    },
    {
     "data": {
      "image/png": "[encoded data removed]",
      "text/plain": [
       "<Figure size 432x288 with 1 Axes>"
      ]
     },
     "metadata": {
      "needs_background": "light"
     },
     "output_type": "display_data"
    }
   ],
   "source": [
    "from scipy.integrate import quad\n",
    "%precision 8\n",
    "\n",
    "rads=0.22\n",
    "\n",
    "def xsec_diff_norm(cos, sqrs2):   # differential cross section (N.B.: already integrated over phi!!)\n",
    "    alpha = 1./137.\n",
    "    mmu = 0.1056583715 # GeV/c2\n",
    "    sqrs2=np.array(sqrs2)\n",
    "    \n",
    "    sqrs_loc=sqrs2.copy()\n",
    "    mask = (sqrs_loc/mmu < 2)\n",
    "    sqrs_loc[mask] = 9999\n",
    "    beta = np.sqrt(1.-4.*mmu*mmu/(sqrs_loc**2))\n",
    "    dsigma = pi/2.*alpha*alpha/(sqrs_loc**2)*beta*(1+(2.*mmu/sqrs_loc)**2+(beta*cos)**2)\n",
    "    \n",
    "    return 389.379*dsigma/xsec(sqrs2)\n",
    "\n",
    "plt.plot(xxcos,xsec_diff_norm(xxcos,rads))\n",
    "\n",
    "\n",
    "upper = xsec_diff_norm(-1, rads)\n",
    "\n",
    "\n",
    "u = np.random.uniform(-1, 1, N)\n",
    "r = np.random.uniform(0, upper, N)\n",
    "v = u[r < xsec_diff_norm(u,rads)]\n",
    "\n",
    "plt.hist(v, bins=20, density=True)\n",
    "plt.ylim(0.45, 0.55)\n",
    "\n"
   ]
  },
  {
   "cell_type": "markdown",
   "metadata": {},
   "source": [
    "* *About $N=10^5$ (or more) of such events should be produced and listed as rows in a file with 6 columns representing the muon pair tri-momenta*\n",
    "\n",
    "We produce a dataframe of $N=10^5$ events getting the momentum components in the CoM r.f. The beam energy was chosen to be $\\sqrt{s}=0.22$ GeV/c$^2$"
   ]
  },
  {
   "cell_type": "code",
   "execution_count": 7,
   "metadata": {},
   "outputs": [],
   "source": [
    "import pandas as pd\n",
    "\n",
    "# ------ preliminar dataset creation -------\n",
    "\n",
    "data = pd.DataFrame(\n",
    "    {\n",
    "        'cosTheta': cos_arr,\n",
    "        'phi': phi\n",
    "    }\n",
    ")\n",
    "\n",
    "data['sinTheta'] = np.sqrt(1-data['cosTheta']**2)\n"
   ]
  },
  {
   "cell_type": "code",
   "execution_count": 8,
   "metadata": {
    "scrolled": true
   },
   "outputs": [
    {
     "data": {
      "text/html": [
       "<div>\n",
       "<style scoped>\n",
       "    .dataframe tbody tr th:only-of-type {\n",
       "        vertical-align: middle;\n",
       "    }\n",
       "\n",
       "    .dataframe tbody tr th {\n",
       "        vertical-align: top;\n",
       "    }\n",
       "\n",
       "    .dataframe thead th {\n",
       "        text-align: right;\n",
       "    }\n",
       "</style>\n",
       "<table border=\"1\" class=\"dataframe\">\n",
       "  <thead>\n",
       "    <tr style=\"text-align: right;\">\n",
       "      <th></th>\n",
       "      <th>p1x</th>\n",
       "      <th>p1y</th>\n",
       "      <th>p1z</th>\n",
       "      <th>p2x</th>\n",
       "      <th>p2y</th>\n",
       "      <th>p2z</th>\n",
       "    </tr>\n",
       "  </thead>\n",
       "  <tbody>\n",
       "    <tr>\n",
       "      <th>0</th>\n",
       "      <td>0.019775</td>\n",
       "      <td>-0.005119</td>\n",
       "      <td>-0.022907</td>\n",
       "      <td>-0.019775</td>\n",
       "      <td>0.005119</td>\n",
       "      <td>0.022907</td>\n",
       "    </tr>\n",
       "    <tr>\n",
       "      <th>1</th>\n",
       "      <td>-0.016650</td>\n",
       "      <td>-0.009865</td>\n",
       "      <td>-0.012262</td>\n",
       "      <td>0.016650</td>\n",
       "      <td>0.009865</td>\n",
       "      <td>0.012262</td>\n",
       "    </tr>\n",
       "    <tr>\n",
       "      <th>2</th>\n",
       "      <td>-0.016518</td>\n",
       "      <td>0.002449</td>\n",
       "      <td>0.025709</td>\n",
       "      <td>0.016518</td>\n",
       "      <td>-0.002449</td>\n",
       "      <td>-0.025709</td>\n",
       "    </tr>\n",
       "    <tr>\n",
       "      <th>3</th>\n",
       "      <td>0.028870</td>\n",
       "      <td>0.001661</td>\n",
       "      <td>-0.006208</td>\n",
       "      <td>-0.028870</td>\n",
       "      <td>-0.001661</td>\n",
       "      <td>0.006208</td>\n",
       "    </tr>\n",
       "    <tr>\n",
       "      <th>4</th>\n",
       "      <td>-0.024692</td>\n",
       "      <td>-0.004555</td>\n",
       "      <td>0.016653</td>\n",
       "      <td>0.024692</td>\n",
       "      <td>0.004555</td>\n",
       "      <td>-0.016653</td>\n",
       "    </tr>\n",
       "  </tbody>\n",
       "</table>\n",
       "</div>"
      ],
      "text/plain": [
       "        p1x       p1y       p1z       p2x       p2y       p2z\n",
       "0  0.019775 -0.005119 -0.022907 -0.019775  0.005119  0.022907\n",
       "1 -0.016650 -0.009865 -0.012262  0.016650  0.009865  0.012262\n",
       "2 -0.016518  0.002449  0.025709  0.016518 -0.002449 -0.025709\n",
       "3  0.028870  0.001661 -0.006208 -0.028870 -0.001661  0.006208\n",
       "4 -0.024692 -0.004555  0.016653  0.024692  0.004555 -0.016653"
      ]
     },
     "execution_count": 8,
     "metadata": {},
     "output_type": "execute_result"
    }
   ],
   "source": [
    "p = np.sqrt( rads**2/(2)**2 - mmu**2 )\n",
    "\n",
    "momentum = pd.DataFrame()\n",
    "\n",
    "momentum['p1x'] = p*data['sinTheta']*np.cos(data['phi'])\n",
    "momentum['p1y'] = p*data['cosTheta']*np.sin(data['phi'])\n",
    "momentum['p1z'] = p*data['cosTheta']\n",
    "\n",
    "momentum['p2x'] = -momentum['p1x']\n",
    "momentum['p2y'] = -momentum['p1y']\n",
    "momentum['p2z'] = -momentum['p1z']\n",
    "\n",
    "momentum.head()"
   ]
  },
  {
   "cell_type": "markdown",
   "metadata": {},
   "source": [
    "Momenta are boosted in the laboratory frame with a lorentz transformation along the z-axis (incoming positron direction). The final momenta are printed in a .csv file called \"pencil-beam.csv\"."
   ]
  },
  {
   "cell_type": "code",
   "execution_count": 9,
   "metadata": {
    "scrolled": true
   },
   "outputs": [
    {
     "data": {
      "text/html": [
       "<div>\n",
       "<style scoped>\n",
       "    .dataframe tbody tr th:only-of-type {\n",
       "        vertical-align: middle;\n",
       "    }\n",
       "\n",
       "    .dataframe tbody tr th {\n",
       "        vertical-align: top;\n",
       "    }\n",
       "\n",
       "    .dataframe thead th {\n",
       "        text-align: right;\n",
       "    }\n",
       "</style>\n",
       "<table border=\"1\" class=\"dataframe\">\n",
       "  <thead>\n",
       "    <tr style=\"text-align: right;\">\n",
       "      <th></th>\n",
       "      <th>p1x</th>\n",
       "      <th>p1y</th>\n",
       "      <th>p1z</th>\n",
       "      <th>p2x</th>\n",
       "      <th>p2y</th>\n",
       "      <th>p2z</th>\n",
       "    </tr>\n",
       "  </thead>\n",
       "  <tbody>\n",
       "    <tr>\n",
       "      <th>0</th>\n",
       "      <td>0.019775</td>\n",
       "      <td>-0.005119</td>\n",
       "      <td>18.747827</td>\n",
       "      <td>-0.019775</td>\n",
       "      <td>0.005119</td>\n",
       "      <td>28.609783</td>\n",
       "    </tr>\n",
       "    <tr>\n",
       "      <th>1</th>\n",
       "      <td>-0.016650</td>\n",
       "      <td>-0.009865</td>\n",
       "      <td>21.039306</td>\n",
       "      <td>0.016650</td>\n",
       "      <td>0.009865</td>\n",
       "      <td>26.318305</td>\n",
       "    </tr>\n",
       "    <tr>\n",
       "      <th>2</th>\n",
       "      <td>-0.016518</td>\n",
       "      <td>0.002449</td>\n",
       "      <td>29.213070</td>\n",
       "      <td>0.016518</td>\n",
       "      <td>-0.002449</td>\n",
       "      <td>18.144541</td>\n",
       "    </tr>\n",
       "    <tr>\n",
       "      <th>3</th>\n",
       "      <td>0.028870</td>\n",
       "      <td>0.001661</td>\n",
       "      <td>22.342458</td>\n",
       "      <td>-0.028870</td>\n",
       "      <td>-0.001661</td>\n",
       "      <td>25.015153</td>\n",
       "    </tr>\n",
       "    <tr>\n",
       "      <th>4</th>\n",
       "      <td>-0.024692</td>\n",
       "      <td>-0.004555</td>\n",
       "      <td>27.263512</td>\n",
       "      <td>0.024692</td>\n",
       "      <td>0.004555</td>\n",
       "      <td>20.094098</td>\n",
       "    </tr>\n",
       "  </tbody>\n",
       "</table>\n",
       "</div>"
      ],
      "text/plain": [
       "        p1x       p1y        p1z       p2x       p2y        p2z\n",
       "0  0.019775 -0.005119  18.747827 -0.019775  0.005119  28.609783\n",
       "1 -0.016650 -0.009865  21.039306  0.016650  0.009865  26.318305\n",
       "2 -0.016518  0.002449  29.213070  0.016518 -0.002449  18.144541\n",
       "3  0.028870  0.001661  22.342458 -0.028870 -0.001661  25.015153\n",
       "4 -0.024692 -0.004555  27.263512  0.024692  0.004555  20.094098"
      ]
     },
     "execution_count": 9,
     "metadata": {},
     "output_type": "execute_result"
    }
   ],
   "source": [
    "me = 0.000511 # GeV/c^2\n",
    "\n",
    "beta_rel = - np.sqrt( 1. - (4.*me**2)/rads**2 )\n",
    "gamma_rel = 1./np.sqrt(1-beta_rel**2)\n",
    "\n",
    "mom_lab_frame = pd.DataFrame()\n",
    "\n",
    "mom_lab_frame['p1x'] = momentum['p1x']\n",
    "mom_lab_frame['p1y'] = momentum['p1y']\n",
    "mom_lab_frame['p1z'] = gamma_rel*momentum['p1z'] - beta_rel*gamma_rel*rads/2\n",
    "mom_lab_frame['p2x'] = momentum['p2x']\n",
    "mom_lab_frame['p2y'] = momentum['p2y']\n",
    "mom_lab_frame['p2z'] = gamma_rel*momentum['p2z'] - beta_rel*gamma_rel*rads/2\n",
    "\n",
    "mom_lab_frame.to_csv(\"pencil-beam.csv\")\n",
    "\n",
    "mom_lab_frame.head()"
   ]
  },
  {
   "cell_type": "markdown",
   "metadata": {},
   "source": [
    "* *Assume a $6$ cm thick Beryllium block is used as target and a rate of positron on target of $10^6$ Hz. Compute the rescaling factor (weight) you need to apply to the $N$ simulated events such that they represent the statistics that would be gathered in a week of countinuous operations.*\n",
    "\n",
    "The interaction rate is computed by calculating and integrating the instant luminosity: $L = n_e \\frac{\\rho_{Be} N_A}{AM_{Be}}\\Delta l_{Be} R_{e^+}$, where $n_e$ is the number of electrons per atom, $\\rho_{Be}$ is the Beryllium density, $N_A$ is the Avogadro number, $AM_{Be}$ is the Beryllium atomic mass, $\\Delta l_{Be}$ is the target thickness, and $R_{e^+}$ is the positron impacting on the target per second. \n",
    "\n",
    "In this way: $N_{event}= \\sigma(s) * L * t$."
   ]
  },
  {
   "cell_type": "code",
   "execution_count": 10,
   "metadata": {},
   "outputs": [
    {
     "name": "stdout",
     "output_type": "stream",
     "text": [
      "acaling factor:  13.081858869906545\n"
     ]
    }
   ],
   "source": [
    "rhoBe = 1848e3 # g/m^3\n",
    "amBe = 9.012182 # u\n",
    "thikBe = 0.06 # m\n",
    "ratePos = 1e6\n",
    "n_av = 6.022e23\n",
    "\n",
    "L = 4 * ((rhoBe * n_av) / amBe) * thikBe * ratePos\n",
    "\n",
    "Rate = xsec(rads) * 1e-34 * L\n",
    "\n",
    "evt_week = Rate * 7 * 24 * 60 * 60\n",
    "\n",
    "scaling_factor = evt_week/N\n",
    "\n",
    "print(\"acaling factor: \",scaling_factor)"
   ]
  },
  {
   "cell_type": "markdown",
   "metadata": {},
   "source": [
    "* *Repeat what done so far simulating now the actual transverse shape and energy spread of the beam: for the former assume a flat distribution in a circle of radius $r=1$ cm and for the latter a gaussian distribution centered at the nominal beam energy and a width of $0.5$ GeV.*\n",
    "\n",
    "The energy spread is sampled in the laboratory rest frame from a normal distribution. Since the sampling of $\\cos{\\theta}$ is performed in the Lab r.f. we had to first boost the positron \"central\" energy to the lab frame, sample N energies according to the gaussian distribution, and then boost them back in the CoM rf where the $\\cos{\\theta}$ were assigned to each event according to the differential cross section related to their resulting energy. The so-obtained momenta were then boosted another time to the Lab frame and printed in a csv file \"uniform-beam.csv\".\n",
    "\n",
    "The transverse spread of the beam is sampled by generating a random radius (uniform normal distribution from 0 to 1 cm) and a random angle (uniform distribution from 0 to $2\\pi$).\n"
   ]
  },
  {
   "cell_type": "code",
   "execution_count": 11,
   "metadata": {
    "scrolled": true
   },
   "outputs": [
    {
     "data": {
      "image/png": "[encoded data removed]",
      "text/plain": [
       "<Figure size 432x288 with 1 Axes>"
      ]
     },
     "metadata": {
      "needs_background": "light"
     },
     "output_type": "display_data"
    }
   ],
   "source": [
    "%precision 8\n",
    "N = 100000\n",
    "sigma_en = 0.5\n",
    "T_boil_Be = 2742 # K\n",
    "rads = 0.22\n",
    "\n",
    "\n",
    "beta_rel = - np.sqrt( 1. - (4.*me**2)/rads**2 )\n",
    "gamma_rel = 1./np.sqrt(1-beta_rel**2)\n",
    "en_lab = gamma_rel * rads / 2. - beta_rel * gamma_rel * np.sqrt( rads**2/4 - me**2 )\n",
    "en_lab_arr = np.random.normal(en_lab, sigma_en, N)\n",
    "\n",
    "rads_arr = 2 * (gamma_rel * en_lab_arr + beta_rel * gamma_rel * np.sqrt( en_lab_arr**2 - me**2 ))\n",
    "mask = (rads_arr < 2*mmu)\n",
    "rads_arr[mask] = 99999\n",
    "\n",
    "p_arr = np.sqrt( rads_arr**2/(2)**2 - mmu**2 )\n",
    "p_arr[mask] = 0\n",
    "\n",
    "k_arr_en = np.random.random(N)\n",
    "costh_arr = [brentq(f, -1, 1, args=(ss**2, kk)) for ss,kk in zip(rads_arr, k_arr_en)]\n",
    "\n",
    "\n",
    "plt.hist(costh_arr, bins=20, density=True)\n",
    "plt.show()"
   ]
  },
  {
   "cell_type": "code",
   "execution_count": 12,
   "metadata": {},
   "outputs": [
    {
     "data": {
      "image/png": "[encoded data removed]",
      "text/plain": [
       "<Figure size 432x288 with 1 Axes>"
      ]
     },
     "metadata": {
      "needs_background": "light"
     },
     "output_type": "display_data"
    }
   ],
   "source": [
    "data = pd.DataFrame(\n",
    "    {\n",
    "        'cosTheta': costh_arr,\n",
    "        'phi': phi\n",
    "    }\n",
    ")\n",
    "\n",
    "data['sinTheta'] = np.sqrt(1-data['cosTheta']**2)\n",
    "\n",
    "\n",
    "momentum = pd.DataFrame()\n",
    "\n",
    "momentum['p1x'] = p_arr*data['sinTheta']*np.cos(data['phi'])\n",
    "momentum['p1y'] = p_arr*data['cosTheta']*np.sin(data['phi'])\n",
    "momentum['p1z'] = p_arr*data['cosTheta']\n",
    "\n",
    "momentum['p2x'] = -momentum['p1x']\n",
    "momentum['p2y'] = -momentum['p1y']\n",
    "momentum['p2z'] = -momentum['p1z']\n",
    "\n",
    "\n",
    "\n",
    "plt.hist(en_lab_arr,bins=100)\n",
    "plt.title(\"Energy distribution of incoming positrons in LAB frame\")\n",
    "plt.xlabel(\"Energy [GeV]\")\n",
    "plt.show()"
   ]
  },
  {
   "cell_type": "code",
   "execution_count": 13,
   "metadata": {},
   "outputs": [
    {
     "data": {
      "image/png": "[encoded data removed]",
      "text/plain": [
       "<Figure size 432x288 with 1 Axes>"
      ]
     },
     "metadata": {
      "needs_background": "light"
     },
     "output_type": "display_data"
    }
   ],
   "source": [
    "radius = 0.01 * np.random.random(N)\n",
    "ang = 2*pi*np.random.random(N)\n",
    "\n",
    "position = pd.DataFrame()\n",
    "\n",
    "position['x1'] = radius * np.cos(ang)\n",
    "position['y1'] = radius * np.sin(ang)\n",
    "position['z1'] = 0.\n",
    "\n",
    "position['x2'] = position['x1']\n",
    "position['y2'] = position['y1']\n",
    "position['z2'] = 0.\n",
    "\n",
    "xspread1 = np.array(position['x1'])\n",
    "yspread1 = np.array(position['y1'])\n",
    "\n",
    "plt.hist2d(xspread1,yspread1,bins=20,range=((-0.015,0.015),(-0.015,0.015)),normed=True)\n",
    "plt.title(\"Beam transverse shape\")\n",
    "plt.xlabel(\"x [m]\")\n",
    "plt.ylabel(\"y [m]\")\n",
    "plt.show()"
   ]
  },
  {
   "cell_type": "code",
   "execution_count": 14,
   "metadata": {},
   "outputs": [
    {
     "data": {
      "text/html": [
       "<div>\n",
       "<style scoped>\n",
       "    .dataframe tbody tr th:only-of-type {\n",
       "        vertical-align: middle;\n",
       "    }\n",
       "\n",
       "    .dataframe tbody tr th {\n",
       "        vertical-align: top;\n",
       "    }\n",
       "\n",
       "    .dataframe thead th {\n",
       "        text-align: right;\n",
       "    }\n",
       "</style>\n",
       "<table border=\"1\" class=\"dataframe\">\n",
       "  <thead>\n",
       "    <tr style=\"text-align: right;\">\n",
       "      <th></th>\n",
       "      <th>p1x</th>\n",
       "      <th>p1y</th>\n",
       "      <th>p1z</th>\n",
       "      <th>p2x</th>\n",
       "      <th>p2y</th>\n",
       "      <th>p2z</th>\n",
       "    </tr>\n",
       "  </thead>\n",
       "  <tbody>\n",
       "    <tr>\n",
       "      <th>0</th>\n",
       "      <td>0.028744</td>\n",
       "      <td>-0.000564</td>\n",
       "      <td>23.018987</td>\n",
       "      <td>-0.028744</td>\n",
       "      <td>0.000564</td>\n",
       "      <td>24.102761</td>\n",
       "    </tr>\n",
       "    <tr>\n",
       "      <th>1</th>\n",
       "      <td>-0.015375</td>\n",
       "      <td>0.002767</td>\n",
       "      <td>23.913771</td>\n",
       "      <td>0.015375</td>\n",
       "      <td>-0.002767</td>\n",
       "      <td>22.448836</td>\n",
       "    </tr>\n",
       "    <tr>\n",
       "      <th>2</th>\n",
       "      <td>-0.031400</td>\n",
       "      <td>0.000020</td>\n",
       "      <td>23.839766</td>\n",
       "      <td>0.031400</td>\n",
       "      <td>-0.000020</td>\n",
       "      <td>23.747791</td>\n",
       "    </tr>\n",
       "    <tr>\n",
       "      <th>3</th>\n",
       "      <td>0.027452</td>\n",
       "      <td>-0.003121</td>\n",
       "      <td>26.212625</td>\n",
       "      <td>-0.027452</td>\n",
       "      <td>0.003121</td>\n",
       "      <td>21.189730</td>\n",
       "    </tr>\n",
       "    <tr>\n",
       "      <th>4</th>\n",
       "      <td>-0.020129</td>\n",
       "      <td>0.003820</td>\n",
       "      <td>20.116425</td>\n",
       "      <td>0.020129</td>\n",
       "      <td>-0.003820</td>\n",
       "      <td>26.054352</td>\n",
       "    </tr>\n",
       "  </tbody>\n",
       "</table>\n",
       "</div>"
      ],
      "text/plain": [
       "        p1x       p1y        p1z       p2x       p2y        p2z\n",
       "0  0.028744 -0.000564  23.018987 -0.028744  0.000564  24.102761\n",
       "1 -0.015375  0.002767  23.913771  0.015375 -0.002767  22.448836\n",
       "2 -0.031400  0.000020  23.839766  0.031400 -0.000020  23.747791\n",
       "3  0.027452 -0.003121  26.212625 -0.027452  0.003121  21.189730\n",
       "4 -0.020129  0.003820  20.116425  0.020129 -0.003820  26.054352"
      ]
     },
     "execution_count": 14,
     "metadata": {},
     "output_type": "execute_result"
    }
   ],
   "source": [
    "beta_rel_arr = - np.sqrt( 1. - (4.*me**2)/rads_arr**2 )\n",
    "gamma_rel_arr = 1./np.sqrt(1-beta_rel_arr**2)\n",
    "\n",
    "mom_lab_frame = pd.DataFrame()\n",
    "\n",
    "mom_lab_frame['p1x'] = momentum['p1x']\n",
    "mom_lab_frame['p1y'] = momentum['p1y']\n",
    "mom_lab_frame['p1z'] = gamma_rel_arr*momentum['p1z'] - beta_rel_arr*gamma_rel_arr*rads_arr/2\n",
    "mom_lab_frame['p2x'] = momentum['p2x']\n",
    "mom_lab_frame['p2y'] = momentum['p2y']\n",
    "mom_lab_frame['p2z'] = gamma_rel_arr*momentum['p2z'] - beta_rel_arr*gamma_rel_arr*rads_arr/2\n",
    "\n",
    "mom_lab_frame.to_csv(\"uniform-beam.csv\")\n",
    "\n",
    "mom_lab_frame.head()"
   ]
  },
  {
   "cell_type": "markdown",
   "metadata": {},
   "source": [
    "* *Assume a $2$ meter long, $1.7$ Tesla dipole magnet is placed right after the target. Display the occupancy of the muon hits on a tracking detector placed at 6 meters after the dipole.*\n",
    "\n",
    "The muons perform a circular motion in the dipole and a linear uniform motion in the drift. We calculated the final momentum components (after the dipole region) using relativistic cinematic, while for the final coordinates we used trigonometry considerations. We assume the magnetic field to be oriented along the x axis."
   ]
  },
  {
   "cell_type": "code",
   "execution_count": 15,
   "metadata": {},
   "outputs": [],
   "source": [
    "B = 1.7 # T\n",
    "l_d = 2 # m\n",
    "d_track = 6 #m\n",
    "\n",
    "\n",
    "p1_arr_lab_2 = mom_lab_frame['p1x']**2+mom_lab_frame['p1y']**2+mom_lab_frame['p1z']**2\n",
    "p2_arr_lab_2 = mom_lab_frame['p2x']**2+mom_lab_frame['p2y']**2+mom_lab_frame['p2z']**2\n",
    "#print(p1_arr_lab_2)\n",
    "p_f = pd.DataFrame()\n",
    "\n",
    "p_f['p1x'] = mom_lab_frame['p1x']\n",
    "p_f['p1y'] = mom_lab_frame['p1y'] + B * e_ * l_d / 5.344286e-19\n",
    "p_f['p1z'] = np.sqrt(p1_arr_lab_2 - p_f['p1y']**2 - p_f['p1x']**2)\n",
    "\n",
    "p_f['p2x'] = mom_lab_frame['p2x']\n",
    "p_f['p2y'] = mom_lab_frame['p2y'] - B * e_ * l_d / 5.344286e-19\n",
    "p_f['p2z'] = np.sqrt(p2_arr_lab_2 - p_f['p2y']**2 - p_f['p2x']**2)"
   ]
  },
  {
   "cell_type": "code",
   "execution_count": 16,
   "metadata": {},
   "outputs": [],
   "source": [
    "beta_rel_mu1_arr = np.sqrt(p1_arr_lab_2)/np.sqrt(p1_arr_lab_2 + mmu**2) \n",
    "beta_rel_mu2_arr = np.sqrt(p2_arr_lab_2)/np.sqrt(p2_arr_lab_2 + mmu**2) \n",
    "\n",
    "gamma_rel_mu1_arr = 1. / np.sqrt( 1. - beta_rel_mu1_arr**2 )\n",
    "gamma_rel_mu2_arr = 1. / np.sqrt( 1. - beta_rel_mu2_arr**2 )\n"
   ]
  },
  {
   "cell_type": "code",
   "execution_count": 17,
   "metadata": {},
   "outputs": [],
   "source": [
    "omega = pd.DataFrame({\n",
    "    'mu1': (B*c_**2) / (mmu * 1e9 * gamma_rel_mu1_arr),\n",
    "    'mu2': (-B*c_**2) / (mmu * 1e9 * gamma_rel_mu2_arr)\n",
    "})\n",
    "\n",
    "\n",
    "# mu+\n",
    "\n",
    "R = (np.sqrt(mom_lab_frame['p1y']**2+mom_lab_frame['p1z']**2)*1e9)/(1.7*c_)\n",
    "th_mu = np.arctan(mom_lab_frame['p1y']/mom_lab_frame['p1z'])\n",
    "mask = th_mu>0\n",
    "\n",
    "D = 2./np.cos(th_mu)\n",
    "ct = np.cos(pi/2 - th_mu)\n",
    "L1 = (-2*R/ct + np.sqrt(4*R**2/ct**2 + 8*R*D/ct))/2\n",
    "L2 = (-2*R/ct - np.sqrt(4*R**2/ct**2 + 8*R*D/ct))/2\n",
    "d_y = L2**2/(2*R)\n",
    "d_y[mask] = 0\n",
    "d_y_1 = d_y/np.sin(pi/2-th_mu) + position['y1']\n",
    "d_y_1[mask] = 0\n",
    "L2[mask] = 0\n",
    "\n",
    "t_out_1 = (L2/R) / omega['mu1']\n",
    "\n",
    "\n",
    "L = 2./np.cos(th_mu)\n",
    "tth = np.tan(th_mu)\n",
    "\n",
    "\n",
    "d1 = (-(2*L*tth-2*R)+np.sqrt((2*L*tth-2*R)**2-4*(L*tth)**2))/(2*tth**2)\n",
    "d2 = (-(2*L*tth-2*R)-np.sqrt((2*L*tth-2*R)**2-4*(L*tth)**2))/(2*tth**2)\n",
    "mask = th_mu<0\n",
    "d_y_2 = d2/np.cos(th_mu) + 2*np.tan(th_mu) + position['y1']\n",
    "d_y_2[mask] = 0\n",
    "d2[mask] = 0\n",
    "L[mask] = 0\n",
    "t_out_2 = ((L + d2*tth)/R) / omega['mu1']\n",
    "\n",
    "t_out = t_out_1 + t_out_2\n",
    "\n",
    "\n",
    "x_out_mu1 = mom_lab_frame['p1x'] * t_out / (mmu * gamma_rel_mu1_arr) + position['x1']\n",
    "y_out_mu1 = d_y_1 + d_y_2\n",
    "\n",
    "\n",
    "pos_f = pd.DataFrame({\n",
    "    'x1': x_out_mu1,\n",
    "    'y1': y_out_mu1,\n",
    "    'z1': 2.\n",
    "})\n",
    "\n",
    "\n",
    "t_drift = 6./(c_*p_f['p1z']/(mmu*gamma_rel_mu1_arr))\n",
    "\n",
    "pos_tracker = pd.DataFrame({\n",
    "    'x1': pos_f['x1'] + t_drift * c_*p_f['p1x']/(mmu*gamma_rel_mu1_arr),\n",
    "    'y1': pos_f['y1'] + t_drift * c_*p_f['p1y']/(mmu*gamma_rel_mu1_arr),\n",
    "    'z1': pos_f['z1'] + t_drift * c_*p_f['p1z']/(mmu*gamma_rel_mu1_arr),\n",
    "})\n",
    "\n"
   ]
  },
  {
   "cell_type": "code",
   "execution_count": 18,
   "metadata": {
    "scrolled": true
   },
   "outputs": [
    {
     "data": {
      "image/png": "[encoded data removed]",
      "text/plain": [
       "<Figure size 432x288 with 1 Axes>"
      ]
     },
     "metadata": {
      "needs_background": "light"
     },
     "output_type": "display_data"
    }
   ],
   "source": [
    "R = -(np.sqrt(mom_lab_frame['p2y']**2+mom_lab_frame['p2z']**2)*1e9)/(1.7*c_)\n",
    "th_mu = np.arctan(mom_lab_frame['p2y']/mom_lab_frame['p2z'])\n",
    "mask = th_mu<0\n",
    "\n",
    "D = 2./np.cos(th_mu)\n",
    "ct = np.cos(pi/2 - th_mu)\n",
    "L1 = (-2*R/ct + np.sqrt(4*R**2/ct**2 + 8*R*D/ct))/2\n",
    "L2 = (-2*R/ct - np.sqrt(4*R**2/ct**2 + 8*R*D/ct))/2\n",
    "d_y = L2**2/(2*R)\n",
    "d_y[mask] = 0\n",
    "d_y_1 = d_y/np.sin(pi/2-th_mu) + position['y2']\n",
    "d_y_1[mask] = 0\n",
    "L2[mask] = 0\n",
    "\n",
    "t_out_1 = (L2/R) / omega['mu2']\n",
    "\n",
    "\n",
    "L = 2./np.cos(th_mu)\n",
    "tth = np.tan(th_mu)\n",
    "\n",
    "\n",
    "d1 = (-(2*L*tth-2*R)+np.sqrt((2*L*tth-2*R)**2-4*(L*tth)**2))/(2*tth**2)\n",
    "d2 = (-(2*L*tth-2*R)-np.sqrt((2*L*tth-2*R)**2-4*(L*tth)**2))/(2*tth**2)\n",
    "mask = th_mu>0\n",
    "d_y_2 = d1/np.cos(th_mu) + 2*np.tan(th_mu) + position['y2']\n",
    "d_y_2[mask] = 0\n",
    "d1[mask] = 0\n",
    "L[mask] = 0\n",
    "t_out_2 = ((L + d1*tth)/R) / omega['mu2']\n",
    "\n",
    "t_out = t_out_1 + t_out_2\n",
    "\n",
    "\n",
    "x_out_mu1 = mom_lab_frame['p2x'] * t_out / (mmu * gamma_rel_mu1_arr) + position['x2']\n",
    "y_out_mu1 = d_y_1 + d_y_2\n",
    "\n",
    "\n",
    "pos_f = pd.DataFrame({\n",
    "    'x2': x_out_mu1,\n",
    "    'y2': y_out_mu1,\n",
    "    'z2': 2.\n",
    "})\n",
    "\n",
    "\n",
    "t_drift = 6./(c_*p_f['p2z']/(mmu*gamma_rel_mu1_arr))\n",
    "\n",
    "pos_tracker['x2'] = pos_f['x2'] + t_drift * c_*p_f['p2x']/(mmu*gamma_rel_mu1_arr)\n",
    "pos_tracker['y2'] = pos_f['y2'] + t_drift * c_*p_f['p2y']/(mmu*gamma_rel_mu1_arr)\n",
    "pos_tracker['z2'] = pos_f['z2'] + t_drift * c_*p_f['p2z']/(mmu*gamma_rel_mu1_arr)\n",
    "\n",
    "\n",
    "x_arr = np.append(np.array(pos_tracker['x1']), np.array(pos_tracker['x2']))\n",
    "y_arr = np.append(np.array(pos_tracker['y1']), np.array(pos_tracker['y2']))\n",
    "\n",
    "plt.hist2d(y_arr, x_arr, range=((-0.5,0.5),(-0.05,0.05)), bins=100)\n",
    "plt.title(\"Occupancy of muon hits on tracker placed at 6 m after the dipole.\\nB along x axis\")\n",
    "plt.xlabel(\"y [m]\")\n",
    "plt.ylabel(\"x [m]\")\n",
    "plt.show()"
   ]
  }
 ],
 "metadata": {
  "kernelspec": {
   "display_name": "Python 3",
   "language": "python",
   "name": "python3"
  },
  "language_info": {
   "codemirror_mode": {
    "name": "ipython",
    "version": 3
   },
   "file_extension": ".py",
   "mimetype": "text/x-python",
   "name": "python",
   "nbconvert_exporter": "python",
   "pygments_lexer": "ipython3",
   "version": "3.7.2"
  }
 },
 "nbformat": 4,
 "nbformat_minor": 2
}
